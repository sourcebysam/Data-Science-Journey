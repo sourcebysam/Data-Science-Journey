{
 "cells": [
  {
   "cell_type": "markdown",
   "metadata": {
    "id": "dWoA0Hs06H0Y"
   },
   "source": [
    "\n",
    "\n",
    "---\n",
    "\n",
    "\n",
    "\n",
    "---\n",
    "\n",
    "\n",
    "# Table of Contents\n",
    "\n",
    "\n",
    "---\n",
    "\n",
    "\n",
    "## Introduction to Python Programming\n",
    "1. What is Python programming language ?\n",
    "2. Why Python programming language required for Data Science ?\n",
    "4. Where can we use Python?\n",
    "5. Features of Python\n",
    "6. Understanding Python Syntax\n",
    "\n",
    "\n",
    "\n",
    "---\n",
    "\n",
    "\n",
    "\n",
    "---\n",
    "\n"
   ]
  },
  {
   "cell_type": "markdown",
   "metadata": {
    "id": "oD1I-idY6Hxh"
   },
   "source": [
    "# 1. What is Python programming language ?\n",
    "\n",
    "- Python is an interpreted, object-oriented, high-level programming language with dynamic semantics.\n",
    "- Its high-level built in data structures, combined with dynamic typing and dynamic binding, make it very attractive for Rapid Application Development, as well as for use as a scripting or glue language to connect existing components together.\n",
    "- Python's simple, easy to learn syntax emphasizes readability and therefore reduces the cost of program maintenance. Python supports modules and packages, which encourages program modularity and code reuse.\n",
    "-The Python interpreter and the extensive standard library are available in source or binary form without charge for all major platforms, and can be freely distributed."
   ]
  },
  {
   "cell_type": "markdown",
   "metadata": {
    "id": "9ge0gz7R6Ht3"
   },
   "source": [
    "# 2. Why Python programming language required for Data Science ?\n",
    "- `It’s Flexible` If you want to try something creative that’s never done before; then Python is perfect for you. It’s ideal for developers who want to script applications and websites.\n",
    "- `It’s Easy to Learn` Python’s focus on simplicity and readability, it boasts a gradual and relatively low learning curve. This ease of learning makes Python an ideal tool for beginning programmers. Python offers programmers the advantage of using fewer lines of code to accomplish tasks than one needs when using older languages. In other words, you spend more time playing with it and less time dealing with code.\n",
    "- `It’s Well-Supported`"
   ]
  },
  {
   "cell_type": "markdown",
   "metadata": {
    "id": "UyZUPgxj6Hos"
   },
   "source": [
    "# 3. Where can we use Python?\n",
    "\n",
    "- `Desktop Applications` (Calculator, Notepad, etc..)\n",
    "- `Web Applications` (Youtube, Dropbox, Google, Instagram, Quora, Spotify)\n",
    "- `Scientific and Numeric` Computing (Scipy, Numpy)\n",
    "- `Database Applications` (Library Management Systems, Pharmaceutical)\n",
    "- `Network Applications `(Network Sniffer, Network Parameter extraction, >- Routing Algo's like OSPF)\n",
    "- `Developing Games` (Battlefield, Sims 4, PUBG)\n",
    "- `Data Science` (Pandas, Matplotlib, Seaborn, etc)\n",
    "- `Machine Learning` (scikit)\n",
    "- `AI` (AIMA - AI: A Modern Approach)\n",
    "- `IOT` (Raspberry pi, Phillips(works great with low level code in c++))"
   ]
  },
  {
   "cell_type": "markdown",
   "metadata": {
    "id": "MBizXdm_6HnY"
   },
   "source": [
    "# 4. Features of Python:\n",
    "- Simple and easy to learn\n",
    "- Free and open source\n",
    "- General Purpose and high level programming language\n",
    "- Platform independent\n",
    "- Case Sensitive\n",
    "- Interpreted Language\n",
    "- Dynamically typed\n",
    "- Rich Library\n",
    "- We can write concise code using python"
   ]
  },
  {
   "cell_type": "code",
   "execution_count": null,
   "metadata": {},
   "outputs": [],
   "source": []
  },
  {
   "cell_type": "markdown",
   "metadata": {
    "id": "Qb5b2SgGMsq-"
   },
   "source": [
    "# 5. Understanding Python Syntax\n",
    "- Python was originally developed as a teaching language, but its ease of use and clean syntax have led it to be embraced by beginners and experts alike.\n",
    "- The cleanliness of Python's syntax has led some to call it \"executable pseudocode\", and indeed my own experience has been that it is often much easier to read and understand a Python script than to read a similar script written in, say, C. Here we'll begin to discuss the main features of Python's syntax.\n",
    "- Syntax refers to the structure of the language (i.e., what constitutes a correctly-formed program). For the time being, we'll not focus on the semantics – the meaning of the words and symbols within the syntax – but will return to this at a later point."
   ]
  }
 ],
 "metadata": {
  "colab": {
   "provenance": []
  },
  "kernelspec": {
   "display_name": "Python 3 (ipykernel)",
   "language": "python",
   "name": "python3"
  },
  "language_info": {
   "codemirror_mode": {
    "name": "ipython",
    "version": 3
   },
   "file_extension": ".py",
   "mimetype": "text/x-python",
   "name": "python",
   "nbconvert_exporter": "python",
   "pygments_lexer": "ipython3",
   "version": "3.13.5"
  }
 },
 "nbformat": 4,
 "nbformat_minor": 4
}
