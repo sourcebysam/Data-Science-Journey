{
 "cells": [
  {
   "cell_type": "markdown",
   "id": "04cdca01-b039-4bea-bc60-58d8e59ad1dc",
   "metadata": {},
   "source": [
    "# Python Task 01: Identifiers"
   ]
  },
  {
   "cell_type": "markdown",
   "id": "a5311d61-4a8e-4cd8-bd7f-72f498e5912d",
   "metadata": {},
   "source": [
    "### 01. Explain about identifiers and their rules."
   ]
  },
  {
   "cell_type": "markdown",
   "id": "6e48ef5a-c7d7-4899-9834-42e46377a286",
   "metadata": {},
   "source": [
    "An identifier is the name used to identify variables, functions, classes, objects, modules, etc. in a program.\n",
    "It acts like a label to reference values stored in memory."
   ]
  },
  {
   "cell_type": "markdown",
   "id": "70b622ca-8183-4ac9-a02d-f9b11c32348b",
   "metadata": {},
   "source": [
    "#### Rules:\n",
    "1. Can contain letters, digits, and underscore\tstudent1, marks_total\n",
    "2. Cannot start with a digit ( 1age-> age1)\n",
    "3. Case-sensitive (different meanings) (e.g.,Name, name, NAME)\n",
    "5. Cannot use keywords ( class-> class_room)\n",
    "6. Cannot contain spaces or special symbols ( total-price-> total_price)\n",
    "7. Can be long but should be meaningful ( employee_salary_record)"
   ]
  },
  {
   "cell_type": "markdown",
   "id": "278eb31d-e882-45ad-9dd7-b82ee04d11e2",
   "metadata": {},
   "source": [
    "## 02.Run the given identifiers and categorize them into valid and invalid ones."
   ]
  },
  {
   "cell_type": "markdown",
   "id": "7d29d058-654c-42b5-bfca-5b9074d7119d",
   "metadata": {},
   "source": [
    "#### Valid Identifiers: "
   ]
  },
  {
   "cell_type": "code",
   "execution_count": 3,
   "id": "0865c2bb-b174-454d-a3c2-46a97e9a9f3f",
   "metadata": {},
   "outputs": [],
   "source": [
    "my_variable = 25\n",
    "counter = 40.7\n",
    "_total = \"Hello\"\n",
    "Name123 = 136\n",
    "myFunction = True\n",
    "_data = False"
   ]
  },
  {
   "cell_type": "markdown",
   "id": "63f2df5e-05bd-403c-a4ed-8e5e4d9cdd68",
   "metadata": {},
   "source": [
    "#### Invalid Identifiers:"
   ]
  },
  {
   "cell_type": "code",
   "execution_count": null,
   "id": "7c0dadfd-db98-4e63-93f8-d54afc501d43",
   "metadata": {},
   "outputs": [],
   "source": [
    "123abc = 34\n",
    "my variable =6.7\n",
    "@count = \"hi\"\n",
    "for = \"True\"\n",
    "if_condition? = \"Innomatics\"\n",
    "class = \"Hyderabad"
   ]
  },
  {
   "cell_type": "markdown",
   "id": "5a5a425c-775e-494f-8ee6-479f942254b0",
   "metadata": {},
   "source": [
    "## 3. Explain why Python treats some identifiers as invalid."
   ]
  },
  {
   "cell_type": "markdown",
   "id": "9c3a1721-2246-405f-bdf8-406b19447d34",
   "metadata": {},
   "source": [
    "Python treats some identifiers as invalid because:\n",
    "\n",
    "01. They start with digits (123abc)\n",
    "\n",
    "02. They contain spaces (my variable)\n",
    "\n",
    "03. They use special characters (@count, if_condition?)\n",
    "\n",
    "04. They are reserved keywords (for, class)"
   ]
  },
  {
   "cell_type": "markdown",
   "id": "69397504-08fa-464f-861d-bc4dd6cc9ed3",
   "metadata": {},
   "source": [
    "## 4. Rewrite the invalid identifiers correctly."
   ]
  },
  {
   "cell_type": "code",
   "execution_count": 5,
   "id": "4d5cba29-8ff3-4b9d-8fd7-61a4ceabeaf2",
   "metadata": {},
   "outputs": [],
   "source": [
    "abc123 = 34\n",
    "my_variable =6.7\n",
    "count = \"hi\"\n",
    "_for = \"True\"\n",
    "if_condition = \"Innomatics\"\n",
    "_class = \"Hyderabad\""
   ]
  },
  {
   "cell_type": "markdown",
   "id": "15d921db-75d4-411e-b5d2-f279690e8866",
   "metadata": {},
   "source": [
    "## 5. Assign different valid identifiers to given values."
   ]
  },
  {
   "cell_type": "code",
   "execution_count": null,
   "id": "12e40813-4e92-43a7-bf34-2e971b680c83",
   "metadata": {},
   "outputs": [],
   "source": [
    "num1 = 10\n",
    "num2 = -5\n",
    "num3 = 3.14159\n",
    "num4 = -0.12345\n",
    "num5 = 1000\n",
    "string = \"Hello, World!\"\n",
    "language = \"Python\"\n",
    "subject = \"I am learning\"\n",
    "text1 = \"Text type\"\n",
    "text2 = \"String\"\n",
    "a = True\n",
    "b = False"
   ]
  }
 ],
 "metadata": {
  "kernelspec": {
   "display_name": "Python 3 (ipykernel)",
   "language": "python",
   "name": "python3"
  },
  "language_info": {
   "codemirror_mode": {
    "name": "ipython",
    "version": 3
   },
   "file_extension": ".py",
   "mimetype": "text/x-python",
   "name": "python",
   "nbconvert_exporter": "python",
   "pygments_lexer": "ipython3",
   "version": "3.13.5"
  }
 },
 "nbformat": 4,
 "nbformat_minor": 5
}
