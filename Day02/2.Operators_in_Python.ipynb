{
 "cells": [
  {
   "cell_type": "markdown",
   "id": "e7ce47b8",
   "metadata": {
    "id": "e7ce47b8"
   },
   "source": [
    "\n",
    "---\n",
    "\n",
    "\n",
    "\n",
    "---\n",
    "\n",
    "\n",
    "# Table of Contents\n",
    "\n",
    "\n",
    "---\n",
    "\n",
    "\n",
    "## Operators\n",
    "1. What are operators ?\n",
    "2. Arithmatic Operators\n",
    "3. Assignment Operators\n",
    "4. Comparison Operators\n",
    "5. Logical Operators\n",
    "6. Identity Operators\n",
    "7. Membership Operators\n",
    "8. Bitwise Operators\n",
    "9. Ternary operator\n",
    "\n",
    "---\n",
    "\n",
    "\n",
    "\n",
    "---\n"
   ]
  },
  {
   "cell_type": "markdown",
   "id": "0c94d33d",
   "metadata": {
    "ExecuteTime": {
     "end_time": "2018-09-09T07:29:59.457009Z",
     "start_time": "2018-09-09T07:29:59.454018Z"
    },
    "id": "0c94d33d"
   },
   "source": [
    "# 1. What are operators ?\n",
    "Operator is a symbol that perform certain operation.\n",
    "\n",
    "Operators available in python are:\n",
    "\n",
    "1. Arithmatic (+, -, *, /, %, //, ***)\n",
    "2. Relational (>, >=, <, <=)\n",
    "3. Equality (==, !=)\n",
    "4. Logical (and, or, not)\n",
    "5. Bitwise (&, |, ^, ~, <<, >>)\n",
    "6. Assignment (=, +=, -=, *=, /=, etc..)\n",
    "7. Ternary\n",
    "8. Identity --> is, is not (used for address comparision)\n",
    "9. Membership --> in, not in"
   ]
  },
  {
   "cell_type": "markdown",
   "id": "b7efa1f8",
   "metadata": {
    "id": "b7efa1f8"
   },
   "source": [
    "# 2.  Arithmatic Operators\n",
    "Arithmetic operators are used with numeric values to perform common mathematical operations:\n"
   ]
  },
  {
   "cell_type": "markdown",
   "id": "7SxTaXVgcyNP",
   "metadata": {
    "id": "7SxTaXVgcyNP"
   },
   "source": [
    "|index|Operator|Name|Example|\n",
    "|---|---|---|---|\n",
    "|1|+|Addition|x + y|\n",
    "|2|-|Subtraction|x - y|\n",
    "|3|\\*|Multiplication|x \\* y|\n",
    "|4|/|Division|x / y|\n",
    "|5|%|Modulus|x % y|\n",
    "|6|\\*\\*|Exponentiation|x \\*\\* y|\n",
    "|7|//|Floor division|x // y|"
   ]
  },
  {
   "cell_type": "code",
   "execution_count": 32,
   "id": "95d9a9f7",
   "metadata": {
    "colab": {
     "base_uri": "https://localhost:8080/"
    },
    "executionInfo": {
     "elapsed": 12,
     "status": "ok",
     "timestamp": 1687506608804,
     "user": {
      "displayName": "Meher Fatima",
      "userId": "08349742051843001487"
     },
     "user_tz": 420
    },
    "id": "95d9a9f7",
    "outputId": "586b554a-32ee-4d54-b97d-dad235545914"
   },
   "outputs": [
    {
     "name": "stdout",
     "output_type": "stream",
     "text": [
      "a+b =  14\n",
      "a-b =  6\n",
      "a*b =  40\n",
      "a/b =  2.5\n",
      "a%b =  2\n",
      "a//b =  2\n",
      "a**b =  10000\n"
     ]
    }
   ],
   "source": [
    "# Arithmatic Operators\n",
    "\n"
   ]
  },
  {
   "cell_type": "markdown",
   "id": "7a941a25",
   "metadata": {
    "id": "7a941a25"
   },
   "source": [
    "# 3. Assignment Operators\n",
    "Assignment operators are used to assign values to variables:\n",
    "\n"
   ]
  },
  {
   "cell_type": "markdown",
   "id": "1Zw9DQhWem3e",
   "metadata": {
    "id": "1Zw9DQhWem3e"
   },
   "source": [
    "|index|Operator|Example|Same As|\n",
    "|---|---|---|---|\n",
    "|1|=|x = 5|x = 5|\n",
    "|2|+=|x += 3|x = x + 3|\n",
    "|3|-=|x -= 3|x = x - 3|\n",
    "|4|\\*=|x \\*= 3|x = x \\* 3|\n",
    "|5|/=|x /= 3|x = x / 3|\n",
    "|6|%=|x %= 3|x = x % 3|\n",
    "|7|//=|x //= 3|x = x // 3|\n",
    "|8|\\*\\*=|x \\*\\*= 3|x = x \\*\\* 3|\n",
    "|9|&=|x &= 3|x = x & 3|\n",
    "|10|&#124;=|x &#124;= 3|x = x &#124; 3|\n",
    "|11|^=|x ^= 3|x = x ^ 3|\n",
    "|12|\\>\\>=|x \\>\\>= 3|x = x \\>\\> 3|\n",
    "|13|\\<\\<=|x \\<\\<= 3|x = x \\<\\< 3|"
   ]
  },
  {
   "cell_type": "code",
   "execution_count": 33,
   "id": "b8857165",
   "metadata": {},
   "outputs": [],
   "source": [
    "y = 15"
   ]
  },
  {
   "cell_type": "code",
   "execution_count": 34,
   "id": "e132fc02",
   "metadata": {},
   "outputs": [
    {
     "name": "stdout",
     "output_type": "stream",
     "text": [
      "30\n"
     ]
    }
   ],
   "source": [
    "y += 15\n",
    "print (y)"
   ]
  },
  {
   "cell_type": "code",
   "execution_count": 11,
   "id": "c4f37896",
   "metadata": {},
   "outputs": [],
   "source": [
    "x = 10"
   ]
  },
  {
   "cell_type": "code",
   "execution_count": 13,
   "id": "1c45f46f-1a99-4419-9bda-1c6708ffad12",
   "metadata": {},
   "outputs": [],
   "source": [
    "x //=3"
   ]
  },
  {
   "cell_type": "code",
   "execution_count": 15,
   "id": "449e20e9-1af3-4dc7-9ad7-9800a3561234",
   "metadata": {},
   "outputs": [
    {
     "data": {
      "text/plain": [
       "3"
      ]
     },
     "execution_count": 15,
     "metadata": {},
     "output_type": "execute_result"
    }
   ],
   "source": [
    "x"
   ]
  },
  {
   "cell_type": "code",
   "execution_count": null,
   "id": "339c1c75",
   "metadata": {
    "id": "339c1c75"
   },
   "outputs": [],
   "source": [
    "# # Assignment Operators\n",
    "\n",
    "# x = 10;\n",
    "\n",
    "# x += 10;\n",
    "\n",
    "# print(x);"
   ]
  },
  {
   "cell_type": "markdown",
   "id": "c63a2d8c",
   "metadata": {
    "id": "c63a2d8c"
   },
   "source": [
    "# 4. Comparison Operators\n",
    "Comparison operators are used to compare two values:\n",
    "\n",
    "\n",
    "|index|Operator|Name|Example|\n",
    "|---|---|---|---|\n",
    "|1|==|Equal|x == y|\n",
    "|2|\\!=|Not equal|x \\!= y|\n",
    "|3|\\>|Greater than|x \\> y|\n",
    "|4|\\<|Less than|x \\< y|\n",
    "|5|\\>=|Greater than or equal to|x \\>= y|\n",
    "|6|\\<=|Less than or equal to|x \\<= y|"
   ]
  },
  {
   "cell_type": "code",
   "execution_count": null,
   "id": "wBddNjVzg4qs",
   "metadata": {
    "id": "wBddNjVzg4qs"
   },
   "outputs": [],
   "source": [
    "\n"
   ]
  },
  {
   "cell_type": "code",
   "execution_count": 35,
   "id": "787f3c66",
   "metadata": {
    "colab": {
     "base_uri": "https://localhost:8080/"
    },
    "executionInfo": {
     "elapsed": 9,
     "status": "ok",
     "timestamp": 1687506608805,
     "user": {
      "displayName": "Meher Fatima",
      "userId": "08349742051843001487"
     },
     "user_tz": 420
    },
    "id": "787f3c66",
    "outputId": "cbfa6fef-2110-4cd6-cd40-16bdbcfe25a1"
   },
   "outputs": [
    {
     "name": "stdout",
     "output_type": "stream",
     "text": [
      "a<b =  False\n",
      "a<=b =  False\n",
      "a>b =  True\n",
      "a>=b =  True\n"
     ]
    }
   ],
   "source": [
    "# Relational Operators\n",
    "\n",
    "a = 10;\n",
    "b = 6;\n",
    "print('a<b = ', a<b);\n",
    "print('a<=b = ', a<=b);\n",
    "print('a>b = ', a>b);\n",
    "print('a>=b = ', a>=b);"
   ]
  },
  {
   "cell_type": "markdown",
   "id": "f8b40452",
   "metadata": {
    "id": "f8b40452"
   },
   "source": [
    "# 5. Logical Operators\n",
    "Logical operators are used to combine conditional statements:\n",
    "\n",
    "|index|Operator|Description|Example|\n",
    "|---|---|---|---|\n",
    "|1|and |Returns True if both statements are true|x \\< 5 and  x \\< 10|\n",
    "|2|or|Returns True if one of the statements is true|x \\< 5 or x \\< 4|\n",
    "|3|not|Reverse the result, returns False if the result is true|not\\(x \\< 5 and x \\< 10\\)|"
   ]
  },
  {
   "cell_type": "code",
   "execution_count": null,
   "id": "muYGiNRthdAl",
   "metadata": {
    "id": "muYGiNRthdAl"
   },
   "outputs": [],
   "source": []
  },
  {
   "cell_type": "code",
   "execution_count": 36,
   "id": "4b892c8f",
   "metadata": {
    "colab": {
     "base_uri": "https://localhost:8080/"
    },
    "executionInfo": {
     "elapsed": 524,
     "status": "ok",
     "timestamp": 1687506609323,
     "user": {
      "displayName": "Meher Fatima",
      "userId": "08349742051843001487"
     },
     "user_tz": 420
    },
    "id": "4b892c8f",
    "outputId": "d0b41834-2aed-44cc-87f3-cefe3d0b3672"
   },
   "outputs": [
    {
     "name": "stdout",
     "output_type": "stream",
     "text": [
      "False\n",
      "True\n",
      "True\n"
     ]
    }
   ],
   "source": [
    "# Logical Operators\n",
    "\n",
    "print(5 < 6 and 6 < 6)\n",
    "\n",
    "print(5 < 6 or 6 < 6)\n",
    "\n",
    "print(not(5 < 6 and 6 < 6))"
   ]
  },
  {
   "cell_type": "markdown",
   "id": "4265f8d7",
   "metadata": {
    "id": "4265f8d7"
   },
   "source": [
    "# 6. Identity Operators\n",
    "Identity operators are used to compare the objects, not if they are equal, but if they are actually the same object, with the same memory location:\n",
    "<br>\n",
    "\n",
    "|index|Operator|Description|Example|\n",
    "|---|---|---|---|\n",
    "|1|is |Returns true if both variables are the same object|x is y|\n",
    "|2|is not|Returns true if both variables are not the same object|x is not y|"
   ]
  },
  {
   "cell_type": "code",
   "execution_count": null,
   "id": "HWaB5E9Zh-GT",
   "metadata": {
    "id": "HWaB5E9Zh-GT"
   },
   "outputs": [],
   "source": []
  },
  {
   "cell_type": "code",
   "execution_count": 37,
   "id": "c25421e6",
   "metadata": {
    "colab": {
     "base_uri": "https://localhost:8080/"
    },
    "executionInfo": {
     "elapsed": 17,
     "status": "ok",
     "timestamp": 1687506609324,
     "user": {
      "displayName": "Meher Fatima",
      "userId": "08349742051843001487"
     },
     "user_tz": 420
    },
    "id": "c25421e6",
    "outputId": "59b0bbd6-d54c-41a9-cf30-9c57172b61a9"
   },
   "outputs": [
    {
     "name": "stdout",
     "output_type": "stream",
     "text": [
      "False\n",
      "True\n"
     ]
    },
    {
     "name": "stderr",
     "output_type": "stream",
     "text": [
      "<>:1: SyntaxWarning: \"is\" with a literal. Did you mean \"==\"?\n",
      "<>:2: SyntaxWarning: \"is not\" with a literal. Did you mean \"!=\"?\n",
      "<>:1: SyntaxWarning: \"is\" with a literal. Did you mean \"==\"?\n",
      "<>:2: SyntaxWarning: \"is not\" with a literal. Did you mean \"!=\"?\n",
      "C:\\Users\\ACER\\AppData\\Local\\Temp\\ipykernel_49056\\4218485013.py:1: SyntaxWarning: \"is\" with a literal. Did you mean \"==\"?\n",
      "  print(5 is 9)\n",
      "C:\\Users\\ACER\\AppData\\Local\\Temp\\ipykernel_49056\\4218485013.py:2: SyntaxWarning: \"is not\" with a literal. Did you mean \"!=\"?\n",
      "  print( 5 is not 9)\n"
     ]
    }
   ],
   "source": [
    "print(5 is 9)\n",
    "print( 5 is not 9)"
   ]
  },
  {
   "cell_type": "markdown",
   "id": "1791b96a",
   "metadata": {
    "id": "1791b96a"
   },
   "source": [
    "# 7. Membership Operators\n",
    "Membership operators are used to test if a sequence is presented in an object:\n",
    "\n",
    "\n",
    "|index|Operator|Description|Example|\n",
    "|---|---|---|---|\n",
    "|1|in |Returns True if a sequence with the specified value is present in the object|x in y|\n",
    "|2|not in|Returns True if a sequence with the specified value is not present in the object|x not in y|"
   ]
  },
  {
   "cell_type": "code",
   "execution_count": null,
   "id": "OUFss5ZIiWTG",
   "metadata": {
    "id": "OUFss5ZIiWTG"
   },
   "outputs": [],
   "source": []
  },
  {
   "cell_type": "code",
   "execution_count": 38,
   "id": "14a4ad49",
   "metadata": {
    "colab": {
     "base_uri": "https://localhost:8080/"
    },
    "executionInfo": {
     "elapsed": 13,
     "status": "ok",
     "timestamp": 1687506609324,
     "user": {
      "displayName": "Meher Fatima",
      "userId": "08349742051843001487"
     },
     "user_tz": 420
    },
    "id": "14a4ad49",
    "outputId": "75221c85-b0ff-4e69-9309-c74d9ffe7ddd"
   },
   "outputs": [
    {
     "name": "stdout",
     "output_type": "stream",
     "text": [
      "False\n",
      "True\n"
     ]
    }
   ],
   "source": [
    "l=[1,2,3,4]#sequence value\n",
    "\n",
    "print(5 in l)\n",
    "print(5 not in l )"
   ]
  },
  {
   "cell_type": "markdown",
   "id": "7f337341",
   "metadata": {
    "id": "7f337341"
   },
   "source": [
    "# 8. Bitwise Operators\n",
    "Bitwise operators are used to compare (binary) numbers:<br>\n",
    "\n",
    "\n",
    "|index|Operator|Name|Description|\n",
    "|---|---|---|---|\n",
    "|1|& |AND|Sets each bit to 1 if both bits are 1|\n",
    "|2|&#124;|OR|Sets each bit to 1 if one of two bits is 1|\n",
    "|3| ^|XOR|Sets each bit to 1 if only one of two bits is 1|\n",
    "|4|~ |NOT|Inverts all the bits|\n",
    "|5|\\<\\<|Zero fill left shift|Shift left by pushing zeros in from the right and let the leftmost bits fall off|\n",
    "|6|\\>\\>|Signed right shift|Shift right by pushing copies of the leftmost bit in from the left, and let the rightmost bits fall off|"
   ]
  },
  {
   "cell_type": "code",
   "execution_count": null,
   "id": "gDRKICRdivkn",
   "metadata": {
    "id": "gDRKICRdivkn"
   },
   "outputs": [],
   "source": []
  },
  {
   "cell_type": "code",
   "execution_count": 39,
   "id": "81357176",
   "metadata": {
    "colab": {
     "base_uri": "https://localhost:8080/"
    },
    "executionInfo": {
     "elapsed": 13,
     "status": "ok",
     "timestamp": 1687778734716,
     "user": {
      "displayName": "Meher Fatima",
      "userId": "08349742051843001487"
     },
     "user_tz": 420
    },
    "id": "81357176",
    "outputId": "2f302e4d-7ef2-4ca4-9fea-a5dec2d2ea35"
   },
   "outputs": [
    {
     "name": "stdout",
     "output_type": "stream",
     "text": [
      "0\n",
      "15\n",
      "15\n"
     ]
    }
   ],
   "source": [
    "# Bitwise\n",
    "# & -> if both bits are 1 then 1 otherwise 0\n",
    "# | -> if both bits are 0 then 0 otherwise 1\n",
    "# ^ -> if both bits are different then 1 otherwise 0\n",
    "\n",
    "\n",
    "print(5 & 10) # 0101   &  1010---0000\n",
    "\n",
    "print(5 | 10)# 0101   |  1010---1111\n",
    "\n",
    "print(5 ^ 10)# 0101   ^  1010---1111\n",
    "\n",
    "\n"
   ]
  },
  {
   "cell_type": "code",
   "execution_count": 40,
   "id": "bdbdbb80",
   "metadata": {
    "colab": {
     "base_uri": "https://localhost:8080/"
    },
    "executionInfo": {
     "elapsed": 10,
     "status": "ok",
     "timestamp": 1687506609325,
     "user": {
      "displayName": "Meher Fatima",
      "userId": "08349742051843001487"
     },
     "user_tz": 420
    },
    "id": "bdbdbb80",
    "outputId": "f7ef7e0e-0bdf-4b7f-e4ab-3ef0f3684e98"
   },
   "outputs": [
    {
     "name": "stdout",
     "output_type": "stream",
     "text": [
      "40\n",
      "25\n"
     ]
    }
   ],
   "source": [
    "# Shift\n",
    "\n",
    "print(10 << 2); # It keeps doubling when you increase the right hand side number\n",
    "\n",
    "print(100 >> 2); # It keeps reducing by half in every step when you increase the right hand side number"
   ]
  },
  {
   "cell_type": "markdown",
   "id": "a0e90b5e",
   "metadata": {
    "id": "a0e90b5e"
   },
   "source": [
    "# 9. Ternary operator\n",
    "Ternary operators are also known as conditional expressions are operators that evaluate something based on a condition being true or false. <br><b>\n",
    "Syntax :\n",
    "\n",
    "[on_true] if [expression] else [on_false] </b>"
   ]
  },
  {
   "cell_type": "code",
   "execution_count": 41,
   "id": "5feb144b",
   "metadata": {
    "colab": {
     "base_uri": "https://localhost:8080/"
    },
    "executionInfo": {
     "elapsed": 9,
     "status": "ok",
     "timestamp": 1687506609326,
     "user": {
      "displayName": "Meher Fatima",
      "userId": "08349742051843001487"
     },
     "user_tz": 420
    },
    "id": "5feb144b",
    "outputId": "11c853ab-8d4f-4b46-998d-0f642c2b4c8f"
   },
   "outputs": [
    {
     "name": "stdout",
     "output_type": "stream",
     "text": [
      "5 6\n"
     ]
    }
   ],
   "source": [
    "x = 5 if (5 < 6) else 6\n",
    "\n",
    "y = 5 if (5 > 6) else 6\n",
    "\n",
    "print(x, y)"
   ]
  },
  {
   "cell_type": "code",
   "execution_count": null,
   "id": "ec3be6ed",
   "metadata": {
    "id": "ec3be6ed"
   },
   "outputs": [],
   "source": []
  }
 ],
 "metadata": {
  "colab": {
   "provenance": []
  },
  "kernelspec": {
   "display_name": "Python 3 (ipykernel)",
   "language": "python",
   "name": "python3"
  },
  "language_info": {
   "codemirror_mode": {
    "name": "ipython",
    "version": 3
   },
   "file_extension": ".py",
   "mimetype": "text/x-python",
   "name": "python",
   "nbconvert_exporter": "python",
   "pygments_lexer": "ipython3",
   "version": "3.13.5"
  }
 },
 "nbformat": 4,
 "nbformat_minor": 5
}
