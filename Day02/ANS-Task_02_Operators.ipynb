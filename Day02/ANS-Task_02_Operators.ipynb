{
 "cells": [
  {
   "cell_type": "markdown",
   "id": "f2b69b13-65d9-441f-97d7-61ba3a29d03d",
   "metadata": {},
   "source": [
    "# Python Task 02: Operators"
   ]
  },
  {
   "cell_type": "markdown",
   "id": "40efe898-84e5-436e-86a2-329c5eb6a6ad",
   "metadata": {},
   "source": [
    "#### Task Overview\n",
    "Welcome to your Python Operators Task!\n",
    "In this task, you'll dive deep into one of the core building blocks of Python called Operators. You'll practice working with different types of operators including Arithmetic, Logical, and Comparison operators. These operators are essential for performing calculations, making decisions, and building real-world Python programs.\n",
    "By the end of this task, you’ll be able to:\n",
    "\n",
    "- Use arithmetic operators to perform mathematical operations.\n",
    "\n",
    "\n",
    "- Apply logical operators to combine multiple conditions.\n",
    "\n",
    "\n",
    "- Compare values using comparison operators.\n",
    "\n",
    "\n",
    "This task will strengthen your foundational knowledge of Python and prepare you for building more complex logic in your future coding projects.\n",
    "\n",
    "---------------------------------------------------------------------------------------------------------------------------------------------\n"
   ]
  },
  {
   "cell_type": "markdown",
   "id": "b6984c01-dae0-4ee7-acc6-11e3a2568771",
   "metadata": {},
   "source": [
    "# Operators"
   ]
  },
  {
   "cell_type": "markdown",
   "id": "baa396bd-207b-41a7-a3e9-6b8ca0aadd04",
   "metadata": {},
   "source": [
    "### 1. Arithmetic Operators"
   ]
  },
  {
   "cell_type": "markdown",
   "id": "17802c0d-8267-4ae6-86c1-c4313cc3a1c6",
   "metadata": {},
   "source": [
    "#### Questions:"
   ]
  },
  {
   "cell_type": "markdown",
   "id": "37875f20-3384-4dc4-8466-fb7c40597ebd",
   "metadata": {},
   "source": [
    "#### 1. What are arithmetic operators? Give 2 examples in your own words."
   ]
  },
  {
   "cell_type": "markdown",
   "id": "a62bd643-ffc7-4789-b668-a25b5d13cb05",
   "metadata": {},
   "source": [
    "Arithmetic operators are symbols used in programming to perform basic mathematical operations such as addition, subtraction, multiplication, division, etc.\n",
    "\n",
    "##### Examples in my own words:\n",
    "\n",
    "1. Addition (+) → If I write 10 + 5, the operator + adds the two numbers and gives result 15.\n",
    "\n",
    "2. Multiplication (*) → If I write 6 * 3, the operator * multiplies the numbers and gives result 18."
   ]
  },
  {
   "cell_type": "markdown",
   "id": "741aa51c-59c0-4901-ace2-39672fe3adab",
   "metadata": {},
   "source": [
    "#### 2. Define below two variables and perform operations using arithmetic operators (+, -, *, /, //, %, **).\n",
    "value1 = 10\n",
    "value2 = 15\n",
    "\n",
    "- Add value1 and value2.\n",
    "- Subtract value1 from value2.\n",
    "- Multiply value1 and value2.\n",
    "- Divide value1 by value2.\n",
    "- Find the floor division of value1 by value2.\n",
    "- Find the remainder when dividing value1 by value2.\n",
    "- Calculate value1 raised to the power of value2.\n"
   ]
  },
  {
   "cell_type": "code",
   "execution_count": 24,
   "id": "9721bbd5-9ba6-411e-b8a5-7d4f3701241f",
   "metadata": {},
   "outputs": [
    {
     "name": "stdout",
     "output_type": "stream",
     "text": [
      "Addition: 25\n",
      "Subtraction: 5\n",
      "Multiplication: 150\n",
      "Division: 0.6666666666666666\n",
      "Floor Division: 0\n",
      "Remainder: 10\n",
      "Power: 1000000000000000\n"
     ]
    }
   ],
   "source": [
    "# Defining variables\n",
    "value1 = 10\n",
    "value2 = 15\n",
    "\n",
    "# Operations\n",
    "print(\"Addition:\", value1 + value2)          # 10 + 15 = 25\n",
    "print(\"Subtraction:\", value2 - value1)      # 15 - 10 = 5\n",
    "print(\"Multiplication:\", value1 * value2)   # 10 * 15 = 150\n",
    "print(\"Division:\", value1 / value2)         # 10 / 15 = 0.666...\n",
    "print(\"Floor Division:\", value1 // value2)  # 10 // 15 = 0\n",
    "print(\"Remainder:\", value1 % value2)        # 10 % 15 = 10\n",
    "print(\"Power:\", value1 ** value2)           # 10 ** 15 = 100..."
   ]
  },
  {
   "cell_type": "markdown",
   "id": "031bc5c4-f599-4bdc-bc70-95a732e8bb26",
   "metadata": {},
   "source": [
    "#### Challenges: \n",
    "\n",
    "##### 01. You have a floor that is 95 meters long and 58.8 meter wide. Find out the Total Area rectangular floor using python and print it. "
   ]
  },
  {
   "cell_type": "markdown",
   "id": "2175d14c-9334-426a-8cd7-b5a29cafcffb",
   "metadata": {},
   "source": [
    "###### Answer: \n",
    "floor is rectangular, the formula for area = length × width."
   ]
  },
  {
   "cell_type": "code",
   "execution_count": 4,
   "id": "2c2bd5f1-7bb2-4a3d-8cc8-bce21b795005",
   "metadata": {},
   "outputs": [
    {
     "name": "stdout",
     "output_type": "stream",
     "text": [
      "The Total Area of the rectangular floor is: 5586.0 square meters\n"
     ]
    }
   ],
   "source": [
    "# Defining dimensions of the floor\n",
    "length = 95\n",
    "width = 58.8\n",
    "\n",
    "# Calculating area\n",
    "area = length * width\n",
    "\n",
    "# Printing result\n",
    "print(\"The Total Area of the rectangular floor is:\", area, \"square meters\")"
   ]
  },
  {
   "cell_type": "markdown",
   "id": "297f74e7-f890-49bd-a3fd-87b05e571f8b",
   "metadata": {},
   "source": [
    "##### A rectangular tile is 2 meters long and 2 meters wide. \n",
    "##### 02. How many such tiles will you need to cover the floor completely?\n",
    "\n",
    "Floor area = 95 × 58.8 = 5586.0 m²\n",
    "\n",
    "Tile area = 2 × 2 = 4 m²\n",
    "\n",
    "Number of tiles needed = Floor area ÷ Tile area = 5586 ÷ 4 = 1396.5\n",
    "\n",
    "Since we can’t use half a tile in reality, we need to round up to the next whole number → 1397 tiles."
   ]
  },
  {
   "cell_type": "markdown",
   "id": "56d3adf6-7184-4c0a-9fca-e901e6a4fde6",
   "metadata": {},
   "source": [
    "### 2. Logical Operators"
   ]
  },
  {
   "cell_type": "markdown",
   "id": "b1ded937-5a60-4908-8feb-8a51d8fbfee5",
   "metadata": {},
   "source": [
    "#### Questions:"
   ]
  },
  {
   "cell_type": "markdown",
   "id": "28d27c49-b418-42ec-bf3e-f14e211df248",
   "metadata": {},
   "source": [
    "##### 1. What are logical operators in Python? Where do we use them?"
   ]
  },
  {
   "cell_type": "markdown",
   "id": "266fa319-012c-4f8c-849a-26113b56aa5d",
   "metadata": {},
   "source": [
    "Logical operators are used to combine conditional statements (expressions that return True or False). They help us make decisions in programs.\n",
    "\n",
    "##### Python has three logical operators:\n",
    "\n",
    "- and → Returns True if both conditions are true.\n",
    "\n",
    "- or → Returns True if at least one condition is true.\n",
    "\n",
    "- not → Returns True if the condition is false (inverts the result)."
   ]
  },
  {
   "cell_type": "markdown",
   "id": "379aa014-4156-40d2-a38b-b861d9a84fe9",
   "metadata": {},
   "source": [
    "##### Where do we use them?\n",
    "\n",
    "We use logical operators in:\n",
    "\n",
    "- Decision making (if-else conditions)\n",
    "\n",
    "- Loops with conditions\n",
    "\n",
    "- Filtering data\n",
    "\n",
    "- Validations (e.g., login checks, input checks)"
   ]
  },
  {
   "cell_type": "markdown",
   "id": "ead715d1-0c21-4ea3-93a3-77a2955af1e3",
   "metadata": {},
   "source": [
    "##### 02. Create a Python script that defines two boolean variables, is_sunny and is_warm, with appropriate values (True or False)."
   ]
  },
  {
   "cell_type": "code",
   "execution_count": 6,
   "id": "85e1fe5c-6b33-4f45-9909-99afaeca616a",
   "metadata": {},
   "outputs": [
    {
     "name": "stdout",
     "output_type": "stream",
     "text": [
      "Is it sunny outside? True\n",
      "Is it warm outside? False\n"
     ]
    }
   ],
   "source": [
    "# Defining boolean variables\n",
    "is_sunny = True\n",
    "is_warm = False\n",
    "\n",
    "# Printing their values\n",
    "print(\"Is it sunny outside?\", is_sunny)\n",
    "print(\"Is it warm outside?\", is_warm)\n"
   ]
  },
  {
   "cell_type": "markdown",
   "id": "5a3b8f89-60ef-4773-8174-611f25a2e58d",
   "metadata": {},
   "source": [
    "##### 03. Use logical operators (and, or, not) to create the following conditions:\n",
    "- Check if it's both sunny and warm and print the result.\n",
    "- Check if it's either sunny or warm and print the result.\n",
    "- Check if it's not sunny and print the result."
   ]
  },
  {
   "cell_type": "code",
   "execution_count": 7,
   "id": "3152b285-f3f8-4466-850c-1e2472f0d822",
   "metadata": {},
   "outputs": [
    {
     "name": "stdout",
     "output_type": "stream",
     "text": [
      "Is it both sunny and warm? False\n",
      "Is it either sunny or warm? True\n",
      "Is it not sunny? False\n"
     ]
    }
   ],
   "source": [
    "# Defining boolean variables\n",
    "is_sunny = True\n",
    "is_warm = False\n",
    "\n",
    "# 1. Check if it's both sunny and warm\n",
    "print(\"Is it both sunny and warm?\", is_sunny and is_warm)\n",
    "\n",
    "# 2. Check if it's either sunny or warm\n",
    "print(\"Is it either sunny or warm?\", is_sunny or is_warm)\n",
    "\n",
    "# 3. Check if it's not sunny\n",
    "print(\"Is it not sunny?\", not is_sunny)"
   ]
  },
  {
   "cell_type": "markdown",
   "id": "b413e1ed-8c0f-465b-8cd7-98a634153f66",
   "metadata": {},
   "source": [
    "#### Challenge: \n",
    "\n",
    "##### If has_umbrella = True and is_raining = False, Can you go outside without getting wet? Use logical operators to decide."
   ]
  },
  {
   "cell_type": "code",
   "execution_count": 8,
   "id": "dfe423ff-4eab-47e1-8bcf-6db1fb300d88",
   "metadata": {},
   "outputs": [
    {
     "name": "stdout",
     "output_type": "stream",
     "text": [
      "Can you go outside without getting wet? True\n"
     ]
    }
   ],
   "source": [
    "# Variables\n",
    "has_umbrella = True\n",
    "is_raining = False\n",
    "\n",
    "# Condition using logical operators\n",
    "can_go_outside = has_umbrella or not is_raining\n",
    "\n",
    "# Print result\n",
    "print(\"Can you go outside without getting wet?\", can_go_outside)\n"
   ]
  },
  {
   "cell_type": "markdown",
   "id": "a4432c60-cbe0-4780-8fac-7ac73820c73e",
   "metadata": {},
   "source": [
    "### 3. Comparison Operators"
   ]
  },
  {
   "cell_type": "markdown",
   "id": "b6ddefdd-8854-43a2-9703-56194bffae6c",
   "metadata": {},
   "source": [
    "#### Questions:"
   ]
  },
  {
   "cell_type": "markdown",
   "id": "1e96a04a-0f1d-4780-a395-4e6fdcc49e94",
   "metadata": {},
   "source": [
    "##### 1 .What are comparison operators? List a few real-world situations where we use them."
   ]
  },
  {
   "cell_type": "markdown",
   "id": "fa9fd852-ff43-4621-b030-d0826955372c",
   "metadata": {},
   "source": [
    "Comparison operators are used to compare two values. They return a boolean value (True or False) depending on the condition.\n",
    "\n",
    "##### Here are the main ones:\n",
    "\n",
    "- == → Equal to\n",
    "\n",
    "- != → Not equal to\n",
    "\n",
    "- ( > ) → Greater than\n",
    "\n",
    "- < → Less than\n",
    "\n",
    "- ( >= ) → Greater than or equal to\n",
    "\n",
    "- <= → Less than or equal to"
   ]
  },
  {
   "cell_type": "markdown",
   "id": "c2ebe355-8556-4cbd-87d5-351b9edbea1a",
   "metadata": {},
   "source": [
    "##### Real-World Situations where we use them:\n",
    "\n",
    "###### Exams/Results:\n",
    "\n",
    "marks = 75\n",
    "print(marks >= 35)   # Did the student pass?\n",
    "\n",
    "Checks if marks are greater than or equal to passing marks.\n",
    "\n",
    "###### Online Shopping:\n",
    "\n",
    "price = 1200\n",
    "budget = 1000\n",
    "print(price <= budget)  # Can I afford this item?\n",
    "\n",
    "Compares price with budget.\n",
    "\n",
    "###### Login Security:\n",
    "\n",
    "entered_pin = 1234\n",
    "correct_pin = 1234\n",
    "print(entered_pin == correct_pin)  # Is the PIN correct?\n",
    "\n",
    "Checks if the entered PIN matches the stored PIN.\n",
    "\n",
    "###### Weather Check:\n",
    "\n",
    "temperature = 32\n",
    "print(temperature > 30)  # Is it hot outside?\n",
    "\n",
    "Compares temperature to decide if it’s hot."
   ]
  },
  {
   "cell_type": "markdown",
   "id": "e7cd22da-6d64-4e09-90e9-1235d05c1692",
   "metadata": {},
   "source": [
    "#### 02. Create a Python script that defines two variables, value1 and value2, with any numeric values."
   ]
  },
  {
   "cell_type": "code",
   "execution_count": 10,
   "id": "4566ae4e-b5cf-48d1-8898-ceebb37f91ca",
   "metadata": {},
   "outputs": [
    {
     "name": "stdout",
     "output_type": "stream",
     "text": [
      "Value 1: 25\n",
      "Value 2: 10\n"
     ]
    }
   ],
   "source": [
    "# Defining two numeric variables\n",
    "value1 = 25\n",
    "value2 = 10\n",
    "\n",
    "# Printing the values\n",
    "print(\"Value 1:\", value1)\n",
    "print(\"Value 2:\", value2)"
   ]
  },
  {
   "cell_type": "markdown",
   "id": "12f2e2e3-d2ee-4e0d-89e8-20663a15eeab",
   "metadata": {},
   "source": [
    "#### 03. Use comparative operators (==, !=, <, >, <=, >=) to create the following conditions:\n",
    "- Check if value1 is equal to value2 and print the result.\n",
    "- Check if value1 is not equal to value2 and print the result.\n",
    "- Check if value1 is less than value2 and print the result.\n",
    "- Check if value1 is greater than value2 and print the result.\n",
    "- Check if value1 is less than or equal to value2 and print the result.\n",
    "- Check if value1 is greater than or equal to value2 and print the result\n"
   ]
  },
  {
   "cell_type": "code",
   "execution_count": 11,
   "id": "07406369-bbdf-47af-9cbf-2cb40638faba",
   "metadata": {},
   "outputs": [
    {
     "name": "stdout",
     "output_type": "stream",
     "text": [
      "Is value1 equal to value2? False\n",
      "Is value1 not equal to value2? True\n",
      "Is value1 less than value2? False\n",
      "Is value1 greater than value2? True\n",
      "Is value1 less than or equal to value2? False\n",
      "Is value1 greater than or equal to value2? True\n"
     ]
    }
   ],
   "source": [
    "# Defining variables\n",
    "value1 = 25\n",
    "value2 = 10\n",
    "\n",
    "# Comparison operations\n",
    "print(\"Is value1 equal to value2?\", value1 == value2)\n",
    "print(\"Is value1 not equal to value2?\", value1 != value2)\n",
    "print(\"Is value1 less than value2?\", value1 < value2)\n",
    "print(\"Is value1 greater than value2?\", value1 > value2)\n",
    "print(\"Is value1 less than or equal to value2?\", value1 <= value2)\n",
    "print(\"Is value1 greater than or equal to value2?\", value1 >= value2)"
   ]
  },
  {
   "cell_type": "markdown",
   "id": "97cac5d2-70df-42aa-9ff7-df2b30ef2341",
   "metadata": {},
   "source": [
    "#### Challenge: \n",
    "#### A person’s age is 18. Write a condition to check if the person is eligible to vote (18 or older). Print the message accordingly"
   ]
  },
  {
   "cell_type": "code",
   "execution_count": 13,
   "id": "14f1968b-a0d1-4707-a748-1c2c0d4bd50a",
   "metadata": {},
   "outputs": [
    {
     "name": "stdout",
     "output_type": "stream",
     "text": [
      "You are eligible to vote.\n"
     ]
    }
   ],
   "source": [
    "# Age of the person\n",
    "age = 18\n",
    "\n",
    "# Checking voting eligibility\n",
    "if age >= 18:\n",
    "    print(\"You are eligible to vote.\")\n",
    "else:\n",
    "    print(\"You are not eligible to vote.\")\n",
    "\n",
    "# Here, we use the comparison operator >= to check if the person is 18 or older."
   ]
  },
  {
   "cell_type": "markdown",
   "id": "e4c7a779-64a7-4f4d-aaae-c62d68256591",
   "metadata": {},
   "source": [
    "### 4. CONCATENATION REPETITION"
   ]
  },
  {
   "cell_type": "markdown",
   "id": "5f8166dc-b851-45cf-a99f-0d62fd6a0c6a",
   "metadata": {},
   "source": [
    "#### Questions:"
   ]
  },
  {
   "cell_type": "markdown",
   "id": "2bb3476d-11c6-4ecd-bb6e-847e54d00b25",
   "metadata": {},
   "source": [
    "##### 01. What is concatenation and what is repetition? Write the difference between them ?\n",
    "\n",
    "Concatenation is joining two or more strings together using the + operator."
   ]
  },
  {
   "cell_type": "code",
   "execution_count": 14,
   "id": "b9a7b3e2-fa02-4485-96b2-c2a7da7e7828",
   "metadata": {},
   "outputs": [
    {
     "name": "stdout",
     "output_type": "stream",
     "text": [
      "Hello World\n"
     ]
    }
   ],
   "source": [
    "# Example:\n",
    "\n",
    "str1 = \"Hello\"\n",
    "str2 = \"World\"\n",
    "result = str1 + \" \" + str2\n",
    "print(result)  # Output: Hello World"
   ]
  },
  {
   "cell_type": "markdown",
   "id": "2bd8c2ef-9bf7-455f-a2f4-da10c80a1fee",
   "metadata": {},
   "source": [
    "Repetition is repeating a string multiple times using the * operator."
   ]
  },
  {
   "cell_type": "code",
   "execution_count": 15,
   "id": "e1d71270-6ff7-4493-b54d-9d0f63b43505",
   "metadata": {},
   "outputs": [
    {
     "name": "stdout",
     "output_type": "stream",
     "text": [
      "Hi! Hi! Hi! \n"
     ]
    }
   ],
   "source": [
    "str1 = \"Hi! \"\n",
    "result = str1 * 3\n",
    "print(result)  # Output: Hi! Hi! Hi! "
   ]
  },
  {
   "cell_type": "markdown",
   "id": "06a2e289-7069-4a6c-b314-74b4dbe727f5",
   "metadata": {},
   "source": [
    "##### Difference Between Concatenation and Repetition in Python"
   ]
  },
  {
   "cell_type": "raw",
   "id": "9f42d5c0-5d58-4554-a601-cc895e665835",
   "metadata": {},
   "source": [
    "# Feature                    \tConcatenation (+)\t                            Repetition (*)\n",
    "# Purpose\t                Joins two or more strings                 \tRepeats a string multiple times\n",
    "# Operator                         \t+\t                                             *\n",
    "# Example\t              \"Hello\" + \"World\" → HelloWorld\t                  \"Hi\" * 3 → HiHiHi"
   ]
  },
  {
   "cell_type": "markdown",
   "id": "98c77e63-d36d-47d3-98fb-632179110621",
   "metadata": {},
   "source": [
    "##### 02. Take two variables as first_name and last_name.concatenate them."
   ]
  },
  {
   "cell_type": "code",
   "execution_count": 21,
   "id": "4dbb39bc-660d-4ba9-8d41-476cadada367",
   "metadata": {},
   "outputs": [
    {
     "name": "stdout",
     "output_type": "stream",
     "text": [
      "Full Name: Samarth Gowda\n"
     ]
    }
   ],
   "source": [
    "# Defining variables\n",
    "first_name = \"Samarth\"\n",
    "last_name = \"Gowda\"\n",
    "\n",
    "# Concatenating first name and last name\n",
    "full_name = first_name + \" \" + last_name\n",
    "\n",
    "# Printing the result\n",
    "print(\"Full Name:\", full_name)"
   ]
  },
  {
   "cell_type": "markdown",
   "id": "bcc4c97d-33d0-4ebf-84ab-334a2af78a2d",
   "metadata": {},
   "source": [
    "##### 03. Print \"Innomatics\" 5 times in the same line."
   ]
  },
  {
   "cell_type": "code",
   "execution_count": 20,
   "id": "0176b0d1-b1b3-4b48-a3b7-5b63c35a500a",
   "metadata": {},
   "outputs": [
    {
     "name": "stdout",
     "output_type": "stream",
     "text": [
      "Innomatics Innomatics Innomatics Innomatics Innomatics \n"
     ]
    }
   ],
   "source": [
    "# Repeating the string 5 times\n",
    "print(\"Innomatics \" * 5)"
   ]
  },
  {
   "cell_type": "markdown",
   "id": "aae65fd5-6fce-4524-932c-ae88dec74744",
   "metadata": {},
   "source": [
    "#### Challenge:"
   ]
  },
  {
   "cell_type": "markdown",
   "id": "81545838-c590-4e2d-a456-1d2cec3ba131",
   "metadata": {},
   "source": [
    "#### Create a mini banner that Prints \"Welcome!\" followed by your full name 3 times, each on a new line."
   ]
  },
  {
   "cell_type": "code",
   "execution_count": 22,
   "id": "a9d5b2f8-6f67-4583-b585-e92dfb1a0954",
   "metadata": {},
   "outputs": [
    {
     "name": "stdout",
     "output_type": "stream",
     "text": [
      "Welcome!\n",
      "Samarth Gowda\n",
      "Samarth Gowda\n",
      "Samarth Gowda\n",
      "\n"
     ]
    }
   ],
   "source": [
    "# Define your full name\n",
    "full_name = \"Samarth Gowda\"\n",
    "\n",
    "# Print \"Welcome!\" followed by full name 3 times on new lines\n",
    "print(\"Welcome!\\n\" + (full_name + \"\\n\") * 3)"
   ]
  }
 ],
 "metadata": {
  "kernelspec": {
   "display_name": "Python 3 (ipykernel)",
   "language": "python",
   "name": "python3"
  },
  "language_info": {
   "codemirror_mode": {
    "name": "ipython",
    "version": 3
   },
   "file_extension": ".py",
   "mimetype": "text/x-python",
   "name": "python",
   "nbconvert_exporter": "python",
   "pygments_lexer": "ipython3",
   "version": "3.13.5"
  }
 },
 "nbformat": 4,
 "nbformat_minor": 5
}
