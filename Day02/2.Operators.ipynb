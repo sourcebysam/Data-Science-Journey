{
 "cells": [
  {
   "cell_type": "markdown",
   "id": "5cdb844a-0fc6-423b-9057-5b0eb54e19e3",
   "metadata": {},
   "source": [
    "# Operators"
   ]
  },
  {
   "cell_type": "markdown",
   "id": "c31e3489-c795-4dff-8b7b-ba95f36a1678",
   "metadata": {},
   "source": [
    "# 1. What are operators ?\n",
    "Operator is a symbol that perform certain operation.\n",
    "\n",
    "Operators available in python are:\n",
    "\n",
    "1. Arithmatic (+, -, *, /, %, //, ***)\n",
    "2. Relational (>, >=, <, <=)\n",
    "3. Equality (==, !=)\n",
    "4. Logical (and, or, not)\n",
    "5. Bitwise (&, |, ^, ~, <<, >>)\n",
    "6. Assignment (=, +=, -=, *=, /=, etc..)\n",
    "7. Ternary\n",
    "8. Identity --> is, is not (used for address comparision)\n",
    "9. Membership --> in, not in"
   ]
  },
  {
   "cell_type": "code",
   "execution_count": null,
   "id": "555b651f-10d5-45e3-8a08-288337078011",
   "metadata": {},
   "outputs": [],
   "source": []
  },
  {
   "cell_type": "markdown",
   "id": "fb212031-04c0-496c-af48-c1b0237313f6",
   "metadata": {},
   "source": [
    "# Arithmatic Operators"
   ]
  },
  {
   "cell_type": "code",
   "execution_count": 4,
   "id": "a9b5bd49-09c5-45a9-9412-9dcb8680b710",
   "metadata": {},
   "outputs": [],
   "source": [
    "x = 15\n",
    "y = 10"
   ]
  },
  {
   "cell_type": "code",
   "execution_count": null,
   "id": "17f11b73-f6c7-443d-9ea3-9a347ff28924",
   "metadata": {},
   "outputs": [],
   "source": [
    "# Addition +\n"
   ]
  },
  {
   "cell_type": "code",
   "execution_count": 6,
   "id": "2f5d4167-8749-45ed-bb3f-4d4b60d3c64b",
   "metadata": {},
   "outputs": [
    {
     "data": {
      "text/plain": [
       "25"
      ]
     },
     "execution_count": 6,
     "metadata": {},
     "output_type": "execute_result"
    }
   ],
   "source": [
    "x + y"
   ]
  },
  {
   "cell_type": "code",
   "execution_count": 8,
   "id": "19b0a05e-78a1-49a1-8040-c449579738ad",
   "metadata": {},
   "outputs": [],
   "source": [
    "z = x + y"
   ]
  },
  {
   "cell_type": "code",
   "execution_count": 10,
   "id": "9c56b73a-b0c7-4a5a-ab01-553548002810",
   "metadata": {},
   "outputs": [
    {
     "name": "stdout",
     "output_type": "stream",
     "text": [
      "25\n"
     ]
    }
   ],
   "source": [
    "print (z)"
   ]
  },
  {
   "cell_type": "code",
   "execution_count": null,
   "id": "7ff5881e-78ab-4000-95ac-b8d193353c64",
   "metadata": {},
   "outputs": [],
   "source": [
    "# Substraction -\n"
   ]
  },
  {
   "cell_type": "code",
   "execution_count": 12,
   "id": "d2817b2e-996b-4011-ab15-ab4478feb210",
   "metadata": {},
   "outputs": [
    {
     "name": "stdout",
     "output_type": "stream",
     "text": [
      "5\n"
     ]
    }
   ],
   "source": [
    "a = x - y\n",
    "print (a)"
   ]
  },
  {
   "cell_type": "code",
   "execution_count": null,
   "id": "a7e6d747-767e-46f9-8d41-42348550802b",
   "metadata": {},
   "outputs": [],
   "source": [
    "# Division /   => (quotient) returns with decimal\n"
   ]
  },
  {
   "cell_type": "code",
   "execution_count": 14,
   "id": "5b3e36ad-3aec-4b89-8964-bfd4f6c859c4",
   "metadata": {},
   "outputs": [
    {
     "data": {
      "text/plain": [
       "1.5"
      ]
     },
     "execution_count": 14,
     "metadata": {},
     "output_type": "execute_result"
    }
   ],
   "source": [
    "x/y"
   ]
  },
  {
   "cell_type": "code",
   "execution_count": null,
   "id": "dbb5c121-8d31-47dd-8c57-37f4b491f202",
   "metadata": {},
   "outputs": [],
   "source": [
    "# Multiplication *\n"
   ]
  },
  {
   "cell_type": "code",
   "execution_count": 18,
   "id": "39e456a7-c2e1-4231-be00-b9b7966ba3cd",
   "metadata": {},
   "outputs": [
    {
     "ename": "SyntaxError",
     "evalue": "invalid syntax (3865834415.py, line 1)",
     "output_type": "error",
     "traceback": [
      "\u001b[1;36m  Cell \u001b[1;32mIn[18], line 1\u001b[1;36m\u001b[0m\n\u001b[1;33m    x '*' y\u001b[0m\n\u001b[1;37m      ^\u001b[0m\n\u001b[1;31mSyntaxError\u001b[0m\u001b[1;31m:\u001b[0m invalid syntax\n"
     ]
    }
   ],
   "source": [
    "x '*' y"
   ]
  },
  {
   "cell_type": "code",
   "execution_count": 24,
   "id": "ac4ca106-a032-4420-a01d-2ec5522ff3e4",
   "metadata": {},
   "outputs": [
    {
     "name": "stdout",
     "output_type": "stream",
     "text": [
      "----------------------------------------------------------------------------------------------------\n",
      "Innomatics Research Lab\n",
      "****************************************************************************************************\n"
     ]
    }
   ],
   "source": [
    "print (100 * '-')\n",
    "print ('Innomatics Research Lab')\n",
    "print (100*'*')"
   ]
  },
  {
   "cell_type": "code",
   "execution_count": 28,
   "id": "6e7950ae-506c-449e-b4a3-0011bc7bb6b7",
   "metadata": {},
   "outputs": [
    {
     "name": "stdout",
     "output_type": "stream",
     "text": [
      "Shankar Shankar Shankar Shankar Shankar Shankar Shankar Shankar Shankar Shankar \n"
     ]
    }
   ],
   "source": [
    "print (10 * 'Shankar ')"
   ]
  },
  {
   "cell_type": "code",
   "execution_count": null,
   "id": "005105df-ca48-4b9a-a78f-847b487f1267",
   "metadata": {},
   "outputs": [],
   "source": []
  },
  {
   "cell_type": "code",
   "execution_count": null,
   "id": "721e6f84-06a2-4157-82ee-7e1477bbea78",
   "metadata": {},
   "outputs": [],
   "source": [
    "# Modulus % => returns the remainder\n"
   ]
  },
  {
   "cell_type": "code",
   "execution_count": 30,
   "id": "2af58c3a-ac96-4610-97e9-90421bb291f7",
   "metadata": {},
   "outputs": [
    {
     "data": {
      "text/plain": [
       "5"
      ]
     },
     "execution_count": 30,
     "metadata": {},
     "output_type": "execute_result"
    }
   ],
   "source": [
    "x % y"
   ]
  },
  {
   "cell_type": "code",
   "execution_count": null,
   "id": "52d72ced-f95a-4c57-9bf3-9d44844f7120",
   "metadata": {},
   "outputs": [],
   "source": [
    "# Exponentiation **\n"
   ]
  },
  {
   "cell_type": "code",
   "execution_count": 32,
   "id": "85203ba2-97d7-4446-abbb-acc5d575cd7f",
   "metadata": {},
   "outputs": [
    {
     "data": {
      "text/plain": [
       "576650390625"
      ]
     },
     "execution_count": 32,
     "metadata": {},
     "output_type": "execute_result"
    }
   ],
   "source": [
    "x ** y"
   ]
  },
  {
   "cell_type": "code",
   "execution_count": null,
   "id": "f5454227-8d96-4abd-a8d4-335cddcb7803",
   "metadata": {},
   "outputs": [],
   "source": []
  },
  {
   "cell_type": "code",
   "execution_count": null,
   "id": "865f924c-b4e3-4407-8108-e6e87e55a5ec",
   "metadata": {},
   "outputs": [],
   "source": [
    "# Floor division // => returns (quotient) whole number and ignores the decimal.\n"
   ]
  },
  {
   "cell_type": "code",
   "execution_count": 34,
   "id": "a5ac94c6-bfc9-4d7c-8e04-0af418726871",
   "metadata": {},
   "outputs": [
    {
     "data": {
      "text/plain": [
       "1"
      ]
     },
     "execution_count": 34,
     "metadata": {},
     "output_type": "execute_result"
    }
   ],
   "source": [
    "x // y"
   ]
  },
  {
   "cell_type": "code",
   "execution_count": null,
   "id": "b9a2c2f0-d27d-4e6f-baa9-bb06aea631c6",
   "metadata": {},
   "outputs": [],
   "source": [
    "# Floor division. It rounds towards negetive infinity when you use negetive number\n"
   ]
  },
  {
   "cell_type": "code",
   "execution_count": 36,
   "id": "c6efbd1e-0a5b-4a35-95f5-fb918321840f",
   "metadata": {},
   "outputs": [
    {
     "data": {
      "text/plain": [
       "-1"
      ]
     },
     "execution_count": 36,
     "metadata": {},
     "output_type": "execute_result"
    }
   ],
   "source": [
    "a = -10\n",
    "b = 5\n",
    "b // a"
   ]
  },
  {
   "cell_type": "code",
   "execution_count": null,
   "id": "42dfa2d3-edb5-4269-9ade-557d3cda4bce",
   "metadata": {},
   "outputs": [],
   "source": [
    "# Difference between division and floor division\n"
   ]
  },
  {
   "cell_type": "code",
   "execution_count": null,
   "id": "c631a79c-e023-4f3d-a585-0b2e88cca97d",
   "metadata": {},
   "outputs": [],
   "source": []
  },
  {
   "cell_type": "code",
   "execution_count": null,
   "id": "e7365e06-da60-4e9e-bbd0-7403ecc07d0b",
   "metadata": {},
   "outputs": [],
   "source": []
  },
  {
   "cell_type": "markdown",
   "id": "98d510b2-c9ab-439a-946b-46845505ecf7",
   "metadata": {},
   "source": [
    "# Assignment Operator"
   ]
  },
  {
   "cell_type": "code",
   "execution_count": null,
   "id": "e5b22844-ff5d-4bdc-9d11-8915a4960580",
   "metadata": {},
   "outputs": [],
   "source": [
    "# =\n",
    "# assign list of items to individual variable. Example - [1,2,3] can be assigned to three different variables\n"
   ]
  },
  {
   "cell_type": "code",
   "execution_count": 38,
   "id": "a85d757e-f2bd-49ef-938d-fc2562c4b1d2",
   "metadata": {},
   "outputs": [],
   "source": [
    "x = 20"
   ]
  },
  {
   "cell_type": "code",
   "execution_count": null,
   "id": "40bad001-2f49-486d-8457-4aa125b3d1e1",
   "metadata": {},
   "outputs": [],
   "source": [
    "# *operator to unpack values. Example - [1,2,3], a,*b, here a takes one value and b takes remaining values"
   ]
  },
  {
   "cell_type": "code",
   "execution_count": 40,
   "id": "e966b3eb-0f51-4b7c-8c04-94bb2f5a85b3",
   "metadata": {},
   "outputs": [],
   "source": [
    "x = [10,20,30,40]"
   ]
  },
  {
   "cell_type": "code",
   "execution_count": 42,
   "id": "d5011442-7a3b-4d4a-8e11-90b61c8c7148",
   "metadata": {},
   "outputs": [],
   "source": [
    "a,*b = x"
   ]
  },
  {
   "cell_type": "code",
   "execution_count": 44,
   "id": "c59644b1-e5d0-4ec5-b7a9-ef3d97929467",
   "metadata": {},
   "outputs": [
    {
     "data": {
      "text/plain": [
       "10"
      ]
     },
     "execution_count": 44,
     "metadata": {},
     "output_type": "execute_result"
    }
   ],
   "source": [
    "a"
   ]
  },
  {
   "cell_type": "code",
   "execution_count": 46,
   "id": "5b04dcc1-d024-484a-a26a-b54ce506c32c",
   "metadata": {},
   "outputs": [
    {
     "data": {
      "text/plain": [
       "[20, 30, 40]"
      ]
     },
     "execution_count": 46,
     "metadata": {},
     "output_type": "execute_result"
    }
   ],
   "source": [
    "b"
   ]
  },
  {
   "cell_type": "code",
   "execution_count": 48,
   "id": "5cbf87a0-66ea-4aea-93da-a9ac6650834b",
   "metadata": {},
   "outputs": [],
   "source": [
    "*a,b = x"
   ]
  },
  {
   "cell_type": "code",
   "execution_count": 50,
   "id": "2c172ec2-3c84-4b93-ac67-d37d7408274d",
   "metadata": {},
   "outputs": [
    {
     "data": {
      "text/plain": [
       "[10, 20, 30]"
      ]
     },
     "execution_count": 50,
     "metadata": {},
     "output_type": "execute_result"
    }
   ],
   "source": [
    "a"
   ]
  },
  {
   "cell_type": "code",
   "execution_count": 52,
   "id": "b4c0e931-853a-4ae5-babc-3de8ffce45d8",
   "metadata": {},
   "outputs": [
    {
     "data": {
      "text/plain": [
       "40"
      ]
     },
     "execution_count": 52,
     "metadata": {},
     "output_type": "execute_result"
    }
   ],
   "source": [
    "b"
   ]
  },
  {
   "cell_type": "code",
   "execution_count": 54,
   "id": "cb4af1ab-0c2e-4be3-b34e-8221e80a177b",
   "metadata": {},
   "outputs": [
    {
     "data": {
      "text/plain": [
       "[10, 20, 30, 40]"
      ]
     },
     "execution_count": 54,
     "metadata": {},
     "output_type": "execute_result"
    }
   ],
   "source": [
    "x"
   ]
  },
  {
   "cell_type": "code",
   "execution_count": 56,
   "id": "ffcd126c-e3c1-4e9f-b190-a317e363b565",
   "metadata": {},
   "outputs": [],
   "source": [
    "a,*b,c = x"
   ]
  },
  {
   "cell_type": "code",
   "execution_count": 58,
   "id": "a66e829f-de16-434d-97a1-b5c8a1268cc7",
   "metadata": {},
   "outputs": [
    {
     "data": {
      "text/plain": [
       "10"
      ]
     },
     "execution_count": 58,
     "metadata": {},
     "output_type": "execute_result"
    }
   ],
   "source": [
    "a"
   ]
  },
  {
   "cell_type": "code",
   "execution_count": 60,
   "id": "9aad21ca-6792-480c-bb20-d978e9aed8ee",
   "metadata": {},
   "outputs": [
    {
     "data": {
      "text/plain": [
       "[20, 30]"
      ]
     },
     "execution_count": 60,
     "metadata": {},
     "output_type": "execute_result"
    }
   ],
   "source": [
    "b"
   ]
  },
  {
   "cell_type": "code",
   "execution_count": 62,
   "id": "35f325e5-248a-493c-ab62-55889f179b76",
   "metadata": {},
   "outputs": [
    {
     "data": {
      "text/plain": [
       "40"
      ]
     },
     "execution_count": 62,
     "metadata": {},
     "output_type": "execute_result"
    }
   ],
   "source": [
    "c"
   ]
  },
  {
   "cell_type": "code",
   "execution_count": null,
   "id": "11f3b536-cf38-4e81-af1c-ce7b52b42c91",
   "metadata": {},
   "outputs": [],
   "source": [
    "# +=\n"
   ]
  },
  {
   "cell_type": "code",
   "execution_count": 64,
   "id": "d057db0e-66be-401b-8b52-8cc153aac04b",
   "metadata": {},
   "outputs": [],
   "source": [
    "salary = 5000"
   ]
  },
  {
   "cell_type": "code",
   "execution_count": 66,
   "id": "8adace39-4e7e-482e-9111-a22683b9e3c9",
   "metadata": {},
   "outputs": [
    {
     "name": "stdout",
     "output_type": "stream",
     "text": [
      "7000\n"
     ]
    }
   ],
   "source": [
    "salary += 2000\n",
    "print (salary)"
   ]
  },
  {
   "cell_type": "code",
   "execution_count": null,
   "id": "49222d3d-8f9d-4514-8208-02195daf9ffb",
   "metadata": {},
   "outputs": [],
   "source": []
  },
  {
   "cell_type": "code",
   "execution_count": null,
   "id": "f4957b44-99ec-498e-9255-abe05829fde5",
   "metadata": {},
   "outputs": [],
   "source": []
  },
  {
   "cell_type": "code",
   "execution_count": null,
   "id": "722acd94-eb18-4d7f-8446-151410459257",
   "metadata": {},
   "outputs": [],
   "source": [
    "# -=\n"
   ]
  },
  {
   "cell_type": "code",
   "execution_count": 68,
   "id": "9584cc38-c16f-4d7f-bc70-df9e18ae48e6",
   "metadata": {},
   "outputs": [
    {
     "name": "stdout",
     "output_type": "stream",
     "text": [
      "6500\n"
     ]
    }
   ],
   "source": [
    "salary -= 500\n",
    "print (salary)"
   ]
  },
  {
   "cell_type": "code",
   "execution_count": 76,
   "id": "342a92df-f381-4217-a81e-4b9b66302f2a",
   "metadata": {},
   "outputs": [
    {
     "name": "stdout",
     "output_type": "stream",
     "text": [
      "300\n"
     ]
    }
   ],
   "source": [
    "xyz = 500\n",
    "xyz +=200\n",
    "xyz -= 400\n",
    "\n",
    "print (xyz)"
   ]
  },
  {
   "cell_type": "code",
   "execution_count": 78,
   "id": "f1d5bb8c-56f2-4871-9bb1-c1e4af9e2b21",
   "metadata": {},
   "outputs": [
    {
     "ename": "TypeError",
     "evalue": "unsupported operand type(s) for +=: 'int' and 'str'",
     "output_type": "error",
     "traceback": [
      "\u001b[1;31m---------------------------------------------------------------------------\u001b[0m",
      "\u001b[1;31mTypeError\u001b[0m                                 Traceback (most recent call last)",
      "Cell \u001b[1;32mIn[78], line 4\u001b[0m\n\u001b[0;32m      2\u001b[0m xyz \u001b[38;5;241m+\u001b[39m\u001b[38;5;241m=\u001b[39m\u001b[38;5;241m200\u001b[39m\n\u001b[0;32m      3\u001b[0m xyz \u001b[38;5;241m-\u001b[39m\u001b[38;5;241m=\u001b[39m \u001b[38;5;241m400\u001b[39m\n\u001b[1;32m----> 4\u001b[0m xyz \u001b[38;5;241m+\u001b[39m\u001b[38;5;241m=\u001b[39m \u001b[38;5;124m'\u001b[39m\u001b[38;5;124m*\u001b[39m\u001b[38;5;124m'\u001b[39m\n\u001b[0;32m      5\u001b[0m \u001b[38;5;28mprint\u001b[39m (xyz)\n",
      "\u001b[1;31mTypeError\u001b[0m: unsupported operand type(s) for +=: 'int' and 'str'"
     ]
    }
   ],
   "source": [
    "xyz = 500\n",
    "xyz +=200\n",
    "xyz -= 400\n",
    "xyz += '*'\n",
    "print (xyz)"
   ]
  },
  {
   "cell_type": "code",
   "execution_count": null,
   "id": "710b77d0-9320-4b4d-b763-2754f1418acd",
   "metadata": {},
   "outputs": [],
   "source": [
    "# /=\n"
   ]
  },
  {
   "cell_type": "code",
   "execution_count": 111,
   "id": "bc5cc0ae-321f-42a5-ba80-48c39e6aa553",
   "metadata": {},
   "outputs": [],
   "source": [
    "x = 20\n",
    "y = 10"
   ]
  },
  {
   "cell_type": "code",
   "execution_count": 115,
   "id": "4451c1c5-0fe3-4cf1-8c9e-fdc331f7015c",
   "metadata": {},
   "outputs": [],
   "source": [
    "x *= y"
   ]
  },
  {
   "cell_type": "code",
   "execution_count": 117,
   "id": "ab3ac1cf-1c2b-4760-bc2b-ff7abc322be7",
   "metadata": {},
   "outputs": [
    {
     "data": {
      "text/plain": [
       "200"
      ]
     },
     "execution_count": 117,
     "metadata": {},
     "output_type": "execute_result"
    }
   ],
   "source": [
    "x"
   ]
  },
  {
   "cell_type": "code",
   "execution_count": 119,
   "id": "c0519675-4542-4c72-8e5b-692e96997c07",
   "metadata": {},
   "outputs": [
    {
     "name": "stdout",
     "output_type": "stream",
     "text": [
      "2000\n"
     ]
    }
   ],
   "source": [
    "z = x * y\n",
    "print (z)"
   ]
  },
  {
   "cell_type": "code",
   "execution_count": null,
   "id": "a085aa3d-b6bf-4115-ac8e-dca3121493a3",
   "metadata": {},
   "outputs": [],
   "source": [
    "# *=\n"
   ]
  },
  {
   "cell_type": "markdown",
   "id": "a8e60edf-0e70-4bc8-bfe9-960f8e13b2d3",
   "metadata": {},
   "source": [
    "# Comparision Operator"
   ]
  },
  {
   "cell_type": "code",
   "execution_count": 121,
   "id": "c955e902-ab89-4d92-98b7-c7e0c9d1aa3c",
   "metadata": {},
   "outputs": [],
   "source": [
    "x = 10\n",
    "y = 20"
   ]
  },
  {
   "cell_type": "code",
   "execution_count": null,
   "id": "3ad1ca83-d903-422c-9b5a-5eba41155a72",
   "metadata": {},
   "outputs": [],
   "source": [
    "# ==\n"
   ]
  },
  {
   "cell_type": "code",
   "execution_count": 123,
   "id": "959097d0-3dbf-4438-a2d3-177dfa8257c4",
   "metadata": {},
   "outputs": [
    {
     "data": {
      "text/plain": [
       "False"
      ]
     },
     "execution_count": 123,
     "metadata": {},
     "output_type": "execute_result"
    }
   ],
   "source": [
    "x == y"
   ]
  },
  {
   "cell_type": "code",
   "execution_count": null,
   "id": "a55d9650-ceaf-4248-9887-b01379c3c2d8",
   "metadata": {},
   "outputs": [],
   "source": []
  },
  {
   "cell_type": "code",
   "execution_count": null,
   "id": "387f4cef-dc19-4a0c-972d-b12d02bc16ea",
   "metadata": {},
   "outputs": [],
   "source": [
    "# !=\n"
   ]
  },
  {
   "cell_type": "code",
   "execution_count": 125,
   "id": "fcb4a47d-4ec9-4cb8-8aef-bf296f755e7b",
   "metadata": {},
   "outputs": [
    {
     "data": {
      "text/plain": [
       "True"
      ]
     },
     "execution_count": 125,
     "metadata": {},
     "output_type": "execute_result"
    }
   ],
   "source": [
    "x != y"
   ]
  },
  {
   "cell_type": "code",
   "execution_count": null,
   "id": "dd92d533-18cd-4950-b048-9f5c7f64b4d1",
   "metadata": {},
   "outputs": [],
   "source": [
    "# >\n"
   ]
  },
  {
   "cell_type": "code",
   "execution_count": 127,
   "id": "d0ee2efa-0cbb-4724-82bb-88f082c0fb4d",
   "metadata": {},
   "outputs": [
    {
     "data": {
      "text/plain": [
       "False"
      ]
     },
     "execution_count": 127,
     "metadata": {},
     "output_type": "execute_result"
    }
   ],
   "source": [
    "x > y"
   ]
  },
  {
   "cell_type": "code",
   "execution_count": null,
   "id": "ed91296a-88d6-4fe8-ba6c-a1bc1e1e6b26",
   "metadata": {},
   "outputs": [],
   "source": [
    "# >=\n"
   ]
  },
  {
   "cell_type": "code",
   "execution_count": 129,
   "id": "1d203b20-742d-4553-a47b-21a022f0291d",
   "metadata": {},
   "outputs": [],
   "source": [
    "x = 20\n",
    "y = 20 "
   ]
  },
  {
   "cell_type": "code",
   "execution_count": 133,
   "id": "ebe0db68-89bd-4de3-a7c1-f7504efbea74",
   "metadata": {},
   "outputs": [
    {
     "data": {
      "text/plain": [
       "True"
      ]
     },
     "execution_count": 133,
     "metadata": {},
     "output_type": "execute_result"
    }
   ],
   "source": [
    "x >= y"
   ]
  },
  {
   "cell_type": "code",
   "execution_count": null,
   "id": "39e44c6b-2925-446b-b6ba-72b5b23444df",
   "metadata": {},
   "outputs": [],
   "source": []
  },
  {
   "cell_type": "code",
   "execution_count": null,
   "id": "09afab87-f8f4-4af7-bdf2-8be705501efa",
   "metadata": {},
   "outputs": [],
   "source": [
    "# <\n"
   ]
  },
  {
   "cell_type": "code",
   "execution_count": 141,
   "id": "74b840fa-754a-45a8-857e-bba1378c0f25",
   "metadata": {},
   "outputs": [
    {
     "data": {
      "text/plain": [
       "False"
      ]
     },
     "execution_count": 141,
     "metadata": {},
     "output_type": "execute_result"
    }
   ],
   "source": [
    "x+2 < y+1"
   ]
  },
  {
   "cell_type": "code",
   "execution_count": null,
   "id": "bb5ae2e7-ae37-4ac2-8147-e9191937ab94",
   "metadata": {},
   "outputs": [],
   "source": [
    "# <=\n",
    "\n",
    "\n"
   ]
  },
  {
   "cell_type": "code",
   "execution_count": 137,
   "id": "68ee1167-44b3-4738-ae2f-8d09a6d27aea",
   "metadata": {},
   "outputs": [
    {
     "data": {
      "text/plain": [
       "True"
      ]
     },
     "execution_count": 137,
     "metadata": {},
     "output_type": "execute_result"
    }
   ],
   "source": [
    "x <= y"
   ]
  },
  {
   "cell_type": "markdown",
   "id": "2473c89c-5fa7-4ded-b2b5-98482dfc1369",
   "metadata": {},
   "source": [
    "# Logical Operator"
   ]
  },
  {
   "cell_type": "code",
   "execution_count": null,
   "id": "6b5c63b4-61f0-4ad6-a850-09a83f7a038f",
   "metadata": {},
   "outputs": [],
   "source": [
    "# and\n",
    "\n"
   ]
  },
  {
   "cell_type": "code",
   "execution_count": 143,
   "id": "9e2d68f8-4922-4a2a-988a-c959bdba1e6c",
   "metadata": {},
   "outputs": [
    {
     "data": {
      "text/plain": [
       "False"
      ]
     },
     "execution_count": 143,
     "metadata": {},
     "output_type": "execute_result"
    }
   ],
   "source": [
    "True and False "
   ]
  },
  {
   "cell_type": "code",
   "execution_count": 147,
   "id": "8677109e-191e-4aa9-8614-da2e32e169e1",
   "metadata": {},
   "outputs": [
    {
     "data": {
      "text/plain": [
       "True"
      ]
     },
     "execution_count": 147,
     "metadata": {},
     "output_type": "execute_result"
    }
   ],
   "source": [
    "x>=y and y<=x"
   ]
  },
  {
   "cell_type": "code",
   "execution_count": null,
   "id": "7e1a2a4e-952d-4177-9906-773c8392c1e6",
   "metadata": {},
   "outputs": [],
   "source": [
    "# condition on both side of the operator"
   ]
  },
  {
   "cell_type": "code",
   "execution_count": 149,
   "id": "b6e81277-6298-4e5e-9fbf-2ef4cf8bf044",
   "metadata": {},
   "outputs": [
    {
     "data": {
      "text/plain": [
       "False"
      ]
     },
     "execution_count": 149,
     "metadata": {},
     "output_type": "execute_result"
    }
   ],
   "source": [
    "x>=y and y<=x and y < 15"
   ]
  },
  {
   "cell_type": "code",
   "execution_count": null,
   "id": "f061be34-dbb1-4c46-986d-647efd080937",
   "metadata": {},
   "outputs": [],
   "source": [
    "# or\n"
   ]
  },
  {
   "cell_type": "code",
   "execution_count": 151,
   "id": "e3d850d4-1e72-42fa-87d6-1ab598710020",
   "metadata": {},
   "outputs": [
    {
     "data": {
      "text/plain": [
       "True"
      ]
     },
     "execution_count": 151,
     "metadata": {},
     "output_type": "execute_result"
    }
   ],
   "source": [
    "x>=y or y<=x and y < 15"
   ]
  },
  {
   "cell_type": "code",
   "execution_count": 155,
   "id": "82dc070b-b2c3-407b-a3eb-044870b8276d",
   "metadata": {},
   "outputs": [
    {
     "data": {
      "text/plain": [
       "False"
      ]
     },
     "execution_count": 155,
     "metadata": {},
     "output_type": "execute_result"
    }
   ],
   "source": [
    "x>y or y < 15"
   ]
  },
  {
   "cell_type": "code",
   "execution_count": null,
   "id": "20739876-b107-4ad7-aa02-9a962cc37b82",
   "metadata": {},
   "outputs": [],
   "source": [
    "# not (It reverses the actual result). You can use and/or operator in between.  Example -> not(x>b and c<b)\n"
   ]
  },
  {
   "cell_type": "code",
   "execution_count": 157,
   "id": "61b01e2f-49ab-402c-9c5e-a4953a1b2354",
   "metadata": {},
   "outputs": [
    {
     "data": {
      "text/plain": [
       "True"
      ]
     },
     "execution_count": 157,
     "metadata": {},
     "output_type": "execute_result"
    }
   ],
   "source": [
    "not (x>y or y < 15)"
   ]
  },
  {
   "cell_type": "code",
   "execution_count": null,
   "id": "b8d37dc8-8fc4-46b5-ba81-6000b50b10e4",
   "metadata": {},
   "outputs": [],
   "source": []
  },
  {
   "cell_type": "markdown",
   "id": "f833e813-78d5-40d4-9992-06b1b9789b3b",
   "metadata": {},
   "source": [
    "# Identity Operator"
   ]
  },
  {
   "cell_type": "code",
   "execution_count": null,
   "id": "a736db41-7a90-41d9-b8e3-496fac5039e0",
   "metadata": {},
   "outputs": [],
   "source": [
    "# is ex - 10 is 15\n"
   ]
  },
  {
   "cell_type": "code",
   "execution_count": 159,
   "id": "c2a5bf5f-d79b-4fbd-8f62-19ab349d6ed8",
   "metadata": {},
   "outputs": [
    {
     "data": {
      "text/plain": [
       "True"
      ]
     },
     "execution_count": 159,
     "metadata": {},
     "output_type": "execute_result"
    }
   ],
   "source": [
    "x is y"
   ]
  },
  {
   "cell_type": "code",
   "execution_count": null,
   "id": "c74e57f3-a905-4916-9ae1-4657d600d182",
   "metadata": {},
   "outputs": [],
   "source": [
    "# text is text\n"
   ]
  },
  {
   "cell_type": "code",
   "execution_count": 163,
   "id": "f3f073d3-a1bc-4100-817c-866a0e2c3b89",
   "metadata": {},
   "outputs": [],
   "source": [
    "a = 'Inno'\n",
    "b = 'matics'"
   ]
  },
  {
   "cell_type": "code",
   "execution_count": 165,
   "id": "826a6521-803d-428f-b247-179c3893e111",
   "metadata": {},
   "outputs": [
    {
     "data": {
      "text/plain": [
       "False"
      ]
     },
     "execution_count": 165,
     "metadata": {},
     "output_type": "execute_result"
    }
   ],
   "source": [
    "a is b"
   ]
  },
  {
   "cell_type": "code",
   "execution_count": 169,
   "id": "12aefcae-dfc1-4704-9815-9ae6c052cea3",
   "metadata": {},
   "outputs": [
    {
     "name": "stderr",
     "output_type": "stream",
     "text": [
      "<>:1: SyntaxWarning: \"is\" with 'str' literal. Did you mean \"==\"?\n",
      "<>:1: SyntaxWarning: \"is\" with 'str' literal. Did you mean \"==\"?\n",
      "C:\\Users\\Dell\\AppData\\Local\\Temp\\ipykernel_23256\\3749946575.py:1: SyntaxWarning: \"is\" with 'str' literal. Did you mean \"==\"?\n",
      "  'Shankar' is 'Shankar'\n"
     ]
    },
    {
     "data": {
      "text/plain": [
       "True"
      ]
     },
     "execution_count": 169,
     "metadata": {},
     "output_type": "execute_result"
    }
   ],
   "source": [
    "'Shankar' is 'Shankar'"
   ]
  },
  {
   "cell_type": "code",
   "execution_count": null,
   "id": "a2d67150-9abe-4da7-9eb5-8199749aa674",
   "metadata": {},
   "outputs": [],
   "source": [
    "# is not\n"
   ]
  },
  {
   "cell_type": "code",
   "execution_count": 171,
   "id": "b9b137a1-34ce-42a0-a3e2-119fbc99d497",
   "metadata": {},
   "outputs": [
    {
     "name": "stderr",
     "output_type": "stream",
     "text": [
      "<>:1: SyntaxWarning: \"is not\" with 'str' literal. Did you mean \"!=\"?\n",
      "<>:1: SyntaxWarning: \"is not\" with 'str' literal. Did you mean \"!=\"?\n",
      "C:\\Users\\Dell\\AppData\\Local\\Temp\\ipykernel_23256\\2904119105.py:1: SyntaxWarning: \"is not\" with 'str' literal. Did you mean \"!=\"?\n",
      "  'Shankar' is not 'Shankar'\n"
     ]
    },
    {
     "data": {
      "text/plain": [
       "False"
      ]
     },
     "execution_count": 171,
     "metadata": {},
     "output_type": "execute_result"
    }
   ],
   "source": [
    "'Shankar' is not 'Shankar'"
   ]
  },
  {
   "cell_type": "code",
   "execution_count": null,
   "id": "b90ec5dd-d0f6-4fb1-8f2a-74dc5e3193b2",
   "metadata": {},
   "outputs": [],
   "source": [
    "(condition) is ((condition) and (condition))\n"
   ]
  },
  {
   "cell_type": "code",
   "execution_count": 177,
   "id": "bf1ee008-0b92-46ca-82ff-40311607a73d",
   "metadata": {},
   "outputs": [
    {
     "data": {
      "text/plain": [
       "False"
      ]
     },
     "execution_count": 177,
     "metadata": {},
     "output_type": "execute_result"
    }
   ],
   "source": [
    "(x >= y) is (y >= x) and (x != y)"
   ]
  },
  {
   "cell_type": "code",
   "execution_count": null,
   "id": "2da5011a-ba1a-430b-98af-6da16369adcc",
   "metadata": {},
   "outputs": [],
   "source": [
    "# True is False"
   ]
  },
  {
   "cell_type": "code",
   "execution_count": 179,
   "id": "b0c0f389-d7e4-446f-a715-4f1686d04abc",
   "metadata": {},
   "outputs": [
    {
     "data": {
      "text/plain": [
       "False"
      ]
     },
     "execution_count": 179,
     "metadata": {},
     "output_type": "execute_result"
    }
   ],
   "source": [
    "True is False"
   ]
  },
  {
   "cell_type": "code",
   "execution_count": null,
   "id": "542ea96e-6904-427d-a11e-ad67d44ad781",
   "metadata": {},
   "outputs": [],
   "source": [
    "# False is True "
   ]
  },
  {
   "cell_type": "code",
   "execution_count": 181,
   "id": "998f8ba9-61b2-417c-bb45-16799a0d6cd7",
   "metadata": {},
   "outputs": [
    {
     "data": {
      "text/plain": [
       "False"
      ]
     },
     "execution_count": 181,
     "metadata": {},
     "output_type": "execute_result"
    }
   ],
   "source": [
    "False is True"
   ]
  },
  {
   "cell_type": "markdown",
   "id": "b6e44738-6013-4e30-963c-2a1afbbe4cc2",
   "metadata": {},
   "source": [
    "# Membership Operator"
   ]
  },
  {
   "cell_type": "code",
   "execution_count": 183,
   "id": "8412e4d6-8af6-4892-89c5-d36b876d93b8",
   "metadata": {},
   "outputs": [],
   "source": [
    "# in\n",
    "# with list\n",
    "\n",
    "list1 = [10,20,33,44,56,7,8,88,99,77,45,34,23,12,16,8,9,6,5,4,3,21,3,5,7,90,10,20,33,44,56,7,8,88,99,77,45,34,23,12,16,8,9,6,5,4,3,21,3,5,7,90,10,20,33,44,56,7,8,88,99,77,45,34,23,12,16,8,9,6,5,4,3,21,3,5,7,90]"
   ]
  },
  {
   "cell_type": "code",
   "execution_count": 185,
   "id": "45ba90f4-5325-4787-8571-a5249d1eae3e",
   "metadata": {},
   "outputs": [
    {
     "data": {
      "text/plain": [
       "True"
      ]
     },
     "execution_count": 185,
     "metadata": {},
     "output_type": "execute_result"
    }
   ],
   "source": [
    "99 in list1"
   ]
  },
  {
   "cell_type": "code",
   "execution_count": 187,
   "id": "f19c8ff4-b330-4738-a100-886f6826eab6",
   "metadata": {},
   "outputs": [
    {
     "data": {
      "text/plain": [
       "False"
      ]
     },
     "execution_count": 187,
     "metadata": {},
     "output_type": "execute_result"
    }
   ],
   "source": [
    "12314341 in list1"
   ]
  },
  {
   "cell_type": "code",
   "execution_count": null,
   "id": "e3d59afb-0a56-48f5-b083-4b6cb8033723",
   "metadata": {},
   "outputs": [],
   "source": [
    "# with string\n"
   ]
  },
  {
   "cell_type": "code",
   "execution_count": 199,
   "id": "efa3632f-b99c-4c54-b7b7-34becc318e79",
   "metadata": {},
   "outputs": [
    {
     "data": {
      "text/plain": [
       "True"
      ]
     },
     "execution_count": 199,
     "metadata": {},
     "output_type": "execute_result"
    }
   ],
   "source": [
    "'matics' in 'Innomatics'"
   ]
  },
  {
   "cell_type": "code",
   "execution_count": null,
   "id": "f5a9d1ce-2977-4f4e-9183-fef734fbab03",
   "metadata": {},
   "outputs": [],
   "source": [
    "# not in. It is opposite of 'in'\n"
   ]
  },
  {
   "cell_type": "code",
   "execution_count": 201,
   "id": "25a59d96-f696-4667-89f0-ecafc75f84fa",
   "metadata": {},
   "outputs": [
    {
     "data": {
      "text/plain": [
       "False"
      ]
     },
     "execution_count": 201,
     "metadata": {},
     "output_type": "execute_result"
    }
   ],
   "source": [
    "'matics' not in 'Innomatics'"
   ]
  },
  {
   "cell_type": "markdown",
   "id": "16173520-53f3-4cb4-b7b3-8d92436f390d",
   "metadata": {},
   "source": [
    "# Bitwise Operators"
   ]
  },
  {
   "cell_type": "code",
   "execution_count": 203,
   "id": "f1c12afd-7570-47c2-8961-d56f3075a62e",
   "metadata": {},
   "outputs": [
    {
     "data": {
      "text/plain": [
       "1"
      ]
     },
     "execution_count": 203,
     "metadata": {},
     "output_type": "execute_result"
    }
   ],
   "source": [
    "# &\n",
    "\n",
    "1 & 1\n"
   ]
  },
  {
   "cell_type": "code",
   "execution_count": 205,
   "id": "e5549eef-4e06-4d3e-9766-1624773785c0",
   "metadata": {},
   "outputs": [
    {
     "data": {
      "text/plain": [
       "0"
      ]
     },
     "execution_count": 205,
     "metadata": {},
     "output_type": "execute_result"
    }
   ],
   "source": [
    "1 & 0 "
   ]
  },
  {
   "cell_type": "code",
   "execution_count": 207,
   "id": "9589c509-618c-4c68-a875-f4896b155a0d",
   "metadata": {},
   "outputs": [
    {
     "data": {
      "text/plain": [
       "0"
      ]
     },
     "execution_count": 207,
     "metadata": {},
     "output_type": "execute_result"
    }
   ],
   "source": [
    "0 & 1"
   ]
  },
  {
   "cell_type": "code",
   "execution_count": 209,
   "id": "09d73693-bb20-4ca9-9ab6-5b861b545aa7",
   "metadata": {},
   "outputs": [
    {
     "data": {
      "text/plain": [
       "0"
      ]
     },
     "execution_count": 209,
     "metadata": {},
     "output_type": "execute_result"
    }
   ],
   "source": [
    "0 & 0"
   ]
  },
  {
   "cell_type": "code",
   "execution_count": null,
   "id": "cd0df0cc-5d63-419e-aead-1b813711a2a5",
   "metadata": {},
   "outputs": [],
   "source": [
    "#  |\n"
   ]
  },
  {
   "cell_type": "code",
   "execution_count": 211,
   "id": "4780d5f6-0f32-49b8-8cd2-7579f3fcebbe",
   "metadata": {},
   "outputs": [
    {
     "data": {
      "text/plain": [
       "1"
      ]
     },
     "execution_count": 211,
     "metadata": {},
     "output_type": "execute_result"
    }
   ],
   "source": [
    "1 | 1"
   ]
  },
  {
   "cell_type": "code",
   "execution_count": 213,
   "id": "6414e348-0938-4ded-a3a8-12bd95f2f217",
   "metadata": {},
   "outputs": [
    {
     "data": {
      "text/plain": [
       "1"
      ]
     },
     "execution_count": 213,
     "metadata": {},
     "output_type": "execute_result"
    }
   ],
   "source": [
    "1 | 0"
   ]
  },
  {
   "cell_type": "markdown",
   "id": "1ecb0637-f39b-49e2-b38e-88b82ad4e751",
   "metadata": {},
   "source": [
    "# Ternary operator"
   ]
  },
  {
   "cell_type": "code",
   "execution_count": 219,
   "id": "50facb40-16fb-40c5-92d5-83225cadb1d4",
   "metadata": {},
   "outputs": [],
   "source": [
    "# It is like conditions\n",
    "x = 10 if (5 < 6) else 6\n",
    "\n",
    "y = 20 if (5 > 6) else 6\n"
   ]
  },
  {
   "cell_type": "code",
   "execution_count": 221,
   "id": "6344ccdd-1e8e-4e4d-8faa-00e8033591ca",
   "metadata": {},
   "outputs": [
    {
     "name": "stdout",
     "output_type": "stream",
     "text": [
      "10 6\n"
     ]
    }
   ],
   "source": [
    "print(x, y)"
   ]
  },
  {
   "cell_type": "code",
   "execution_count": 223,
   "id": "88d733b3-a410-4d58-94ed-0be08b7c8bcc",
   "metadata": {},
   "outputs": [],
   "source": [
    "x = 'Buy' if (5 < 6) else 8\n",
    "\n",
    "y = \"Dont Buy\" if (5 > 6) else 'Buy'"
   ]
  },
  {
   "cell_type": "code",
   "execution_count": 225,
   "id": "df817fd2-f0df-400d-aa9c-4f7b7bfa53ca",
   "metadata": {},
   "outputs": [
    {
     "name": "stdout",
     "output_type": "stream",
     "text": [
      "Buy Buy\n"
     ]
    }
   ],
   "source": [
    "print (x, y)"
   ]
  },
  {
   "cell_type": "code",
   "execution_count": 227,
   "id": "a7902761-8f95-413d-ad62-83961a2b6144",
   "metadata": {},
   "outputs": [
    {
     "name": "stdout",
     "output_type": "stream",
     "text": [
      "x\n"
     ]
    }
   ],
   "source": [
    "print ('x' if (5 <8) else 'y')"
   ]
  },
  {
   "cell_type": "code",
   "execution_count": 229,
   "id": "9ef75845-0aa6-46ce-99e2-0139bc1b9f29",
   "metadata": {},
   "outputs": [
    {
     "name": "stdout",
     "output_type": "stream",
     "text": [
      "Not Correct\n"
     ]
    }
   ],
   "source": [
    "print ('Correct' if ('i' not in 'Innomatics') else 'Not Correct')"
   ]
  },
  {
   "cell_type": "code",
   "execution_count": null,
   "id": "1380a1f7-d75e-4186-969b-a90b69d635af",
   "metadata": {},
   "outputs": [],
   "source": []
  }
 ],
 "metadata": {
  "kernelspec": {
   "display_name": "Python 3 (ipykernel)",
   "language": "python",
   "name": "python3"
  },
  "language_info": {
   "codemirror_mode": {
    "name": "ipython",
    "version": 3
   },
   "file_extension": ".py",
   "mimetype": "text/x-python",
   "name": "python",
   "nbconvert_exporter": "python",
   "pygments_lexer": "ipython3",
   "version": "3.13.5"
  }
 },
 "nbformat": 4,
 "nbformat_minor": 5
}
